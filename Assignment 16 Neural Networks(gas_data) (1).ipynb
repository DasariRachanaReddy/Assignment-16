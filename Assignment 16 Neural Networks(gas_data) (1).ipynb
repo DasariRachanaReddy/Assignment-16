{
 "cells": [
  {
   "cell_type": "code",
   "execution_count": 1,
   "id": "cd999e1b",
   "metadata": {
    "ExecuteTime": {
     "end_time": "2023-02-05T05:20:55.699606Z",
     "start_time": "2023-02-05T05:20:51.376939Z"
    }
   },
   "outputs": [],
   "source": [
    "import pandas as pd\n",
    "import numpy as np\n",
    "from sklearn.model_selection import train_test_split\n",
    "from sklearn.linear_model import LinearRegression\n",
    "from sklearn.metrics import mean_squared_error, r2_score"
   ]
  },
  {
   "cell_type": "code",
   "execution_count": 2,
   "id": "aa1814a9",
   "metadata": {
    "ExecuteTime": {
     "end_time": "2023-02-05T05:20:55.788654Z",
     "start_time": "2023-02-05T05:20:55.699606Z"
    }
   },
   "outputs": [],
   "source": [
    "df = pd.read_csv(\"gas_turbines.csv\")\n"
   ]
  },
  {
   "cell_type": "code",
   "execution_count": 3,
   "id": "fa198323",
   "metadata": {
    "ExecuteTime": {
     "end_time": "2023-02-05T05:20:55.852668Z",
     "start_time": "2023-02-05T05:20:55.788654Z"
    }
   },
   "outputs": [
    {
     "data": {
      "text/html": [
       "<div>\n",
       "<style scoped>\n",
       "    .dataframe tbody tr th:only-of-type {\n",
       "        vertical-align: middle;\n",
       "    }\n",
       "\n",
       "    .dataframe tbody tr th {\n",
       "        vertical-align: top;\n",
       "    }\n",
       "\n",
       "    .dataframe thead th {\n",
       "        text-align: right;\n",
       "    }\n",
       "</style>\n",
       "<table border=\"1\" class=\"dataframe\">\n",
       "  <thead>\n",
       "    <tr style=\"text-align: right;\">\n",
       "      <th></th>\n",
       "      <th>AT</th>\n",
       "      <th>AP</th>\n",
       "      <th>AH</th>\n",
       "      <th>AFDP</th>\n",
       "      <th>GTEP</th>\n",
       "      <th>TIT</th>\n",
       "      <th>TAT</th>\n",
       "      <th>TEY</th>\n",
       "      <th>CDP</th>\n",
       "      <th>CO</th>\n",
       "      <th>NOX</th>\n",
       "    </tr>\n",
       "  </thead>\n",
       "  <tbody>\n",
       "    <tr>\n",
       "      <th>0</th>\n",
       "      <td>6.8594</td>\n",
       "      <td>1007.9</td>\n",
       "      <td>96.799</td>\n",
       "      <td>3.5000</td>\n",
       "      <td>19.663</td>\n",
       "      <td>1059.2</td>\n",
       "      <td>550.00</td>\n",
       "      <td>114.70</td>\n",
       "      <td>10.605</td>\n",
       "      <td>3.1547</td>\n",
       "      <td>82.722</td>\n",
       "    </tr>\n",
       "    <tr>\n",
       "      <th>1</th>\n",
       "      <td>6.7850</td>\n",
       "      <td>1008.4</td>\n",
       "      <td>97.118</td>\n",
       "      <td>3.4998</td>\n",
       "      <td>19.728</td>\n",
       "      <td>1059.3</td>\n",
       "      <td>550.00</td>\n",
       "      <td>114.72</td>\n",
       "      <td>10.598</td>\n",
       "      <td>3.2363</td>\n",
       "      <td>82.776</td>\n",
       "    </tr>\n",
       "    <tr>\n",
       "      <th>2</th>\n",
       "      <td>6.8977</td>\n",
       "      <td>1008.8</td>\n",
       "      <td>95.939</td>\n",
       "      <td>3.4824</td>\n",
       "      <td>19.779</td>\n",
       "      <td>1059.4</td>\n",
       "      <td>549.87</td>\n",
       "      <td>114.71</td>\n",
       "      <td>10.601</td>\n",
       "      <td>3.2012</td>\n",
       "      <td>82.468</td>\n",
       "    </tr>\n",
       "    <tr>\n",
       "      <th>3</th>\n",
       "      <td>7.0569</td>\n",
       "      <td>1009.2</td>\n",
       "      <td>95.249</td>\n",
       "      <td>3.4805</td>\n",
       "      <td>19.792</td>\n",
       "      <td>1059.6</td>\n",
       "      <td>549.99</td>\n",
       "      <td>114.72</td>\n",
       "      <td>10.606</td>\n",
       "      <td>3.1923</td>\n",
       "      <td>82.670</td>\n",
       "    </tr>\n",
       "    <tr>\n",
       "      <th>4</th>\n",
       "      <td>7.3978</td>\n",
       "      <td>1009.7</td>\n",
       "      <td>95.150</td>\n",
       "      <td>3.4976</td>\n",
       "      <td>19.765</td>\n",
       "      <td>1059.7</td>\n",
       "      <td>549.98</td>\n",
       "      <td>114.72</td>\n",
       "      <td>10.612</td>\n",
       "      <td>3.2484</td>\n",
       "      <td>82.311</td>\n",
       "    </tr>\n",
       "    <tr>\n",
       "      <th>...</th>\n",
       "      <td>...</td>\n",
       "      <td>...</td>\n",
       "      <td>...</td>\n",
       "      <td>...</td>\n",
       "      <td>...</td>\n",
       "      <td>...</td>\n",
       "      <td>...</td>\n",
       "      <td>...</td>\n",
       "      <td>...</td>\n",
       "      <td>...</td>\n",
       "      <td>...</td>\n",
       "    </tr>\n",
       "    <tr>\n",
       "      <th>15034</th>\n",
       "      <td>9.0301</td>\n",
       "      <td>1005.6</td>\n",
       "      <td>98.460</td>\n",
       "      <td>3.5421</td>\n",
       "      <td>19.164</td>\n",
       "      <td>1049.7</td>\n",
       "      <td>546.21</td>\n",
       "      <td>111.61</td>\n",
       "      <td>10.400</td>\n",
       "      <td>4.5186</td>\n",
       "      <td>79.559</td>\n",
       "    </tr>\n",
       "    <tr>\n",
       "      <th>15035</th>\n",
       "      <td>7.8879</td>\n",
       "      <td>1005.9</td>\n",
       "      <td>99.093</td>\n",
       "      <td>3.5059</td>\n",
       "      <td>19.414</td>\n",
       "      <td>1046.3</td>\n",
       "      <td>543.22</td>\n",
       "      <td>111.78</td>\n",
       "      <td>10.433</td>\n",
       "      <td>4.8470</td>\n",
       "      <td>79.917</td>\n",
       "    </tr>\n",
       "    <tr>\n",
       "      <th>15036</th>\n",
       "      <td>7.2647</td>\n",
       "      <td>1006.3</td>\n",
       "      <td>99.496</td>\n",
       "      <td>3.4770</td>\n",
       "      <td>19.530</td>\n",
       "      <td>1037.7</td>\n",
       "      <td>537.32</td>\n",
       "      <td>110.19</td>\n",
       "      <td>10.483</td>\n",
       "      <td>7.9632</td>\n",
       "      <td>90.912</td>\n",
       "    </tr>\n",
       "    <tr>\n",
       "      <th>15037</th>\n",
       "      <td>7.0060</td>\n",
       "      <td>1006.8</td>\n",
       "      <td>99.008</td>\n",
       "      <td>3.4486</td>\n",
       "      <td>19.377</td>\n",
       "      <td>1043.2</td>\n",
       "      <td>541.24</td>\n",
       "      <td>110.74</td>\n",
       "      <td>10.533</td>\n",
       "      <td>6.2494</td>\n",
       "      <td>93.227</td>\n",
       "    </tr>\n",
       "    <tr>\n",
       "      <th>15038</th>\n",
       "      <td>6.9279</td>\n",
       "      <td>1007.2</td>\n",
       "      <td>97.533</td>\n",
       "      <td>3.4275</td>\n",
       "      <td>19.306</td>\n",
       "      <td>1049.9</td>\n",
       "      <td>545.85</td>\n",
       "      <td>111.58</td>\n",
       "      <td>10.583</td>\n",
       "      <td>4.9816</td>\n",
       "      <td>92.498</td>\n",
       "    </tr>\n",
       "  </tbody>\n",
       "</table>\n",
       "<p>15039 rows × 11 columns</p>\n",
       "</div>"
      ],
      "text/plain": [
       "           AT      AP      AH    AFDP    GTEP     TIT     TAT     TEY     CDP  \\\n",
       "0      6.8594  1007.9  96.799  3.5000  19.663  1059.2  550.00  114.70  10.605   \n",
       "1      6.7850  1008.4  97.118  3.4998  19.728  1059.3  550.00  114.72  10.598   \n",
       "2      6.8977  1008.8  95.939  3.4824  19.779  1059.4  549.87  114.71  10.601   \n",
       "3      7.0569  1009.2  95.249  3.4805  19.792  1059.6  549.99  114.72  10.606   \n",
       "4      7.3978  1009.7  95.150  3.4976  19.765  1059.7  549.98  114.72  10.612   \n",
       "...       ...     ...     ...     ...     ...     ...     ...     ...     ...   \n",
       "15034  9.0301  1005.6  98.460  3.5421  19.164  1049.7  546.21  111.61  10.400   \n",
       "15035  7.8879  1005.9  99.093  3.5059  19.414  1046.3  543.22  111.78  10.433   \n",
       "15036  7.2647  1006.3  99.496  3.4770  19.530  1037.7  537.32  110.19  10.483   \n",
       "15037  7.0060  1006.8  99.008  3.4486  19.377  1043.2  541.24  110.74  10.533   \n",
       "15038  6.9279  1007.2  97.533  3.4275  19.306  1049.9  545.85  111.58  10.583   \n",
       "\n",
       "           CO     NOX  \n",
       "0      3.1547  82.722  \n",
       "1      3.2363  82.776  \n",
       "2      3.2012  82.468  \n",
       "3      3.1923  82.670  \n",
       "4      3.2484  82.311  \n",
       "...       ...     ...  \n",
       "15034  4.5186  79.559  \n",
       "15035  4.8470  79.917  \n",
       "15036  7.9632  90.912  \n",
       "15037  6.2494  93.227  \n",
       "15038  4.9816  92.498  \n",
       "\n",
       "[15039 rows x 11 columns]"
      ]
     },
     "execution_count": 3,
     "metadata": {},
     "output_type": "execute_result"
    }
   ],
   "source": [
    "df"
   ]
  },
  {
   "cell_type": "code",
   "execution_count": 4,
   "id": "dab057f9",
   "metadata": {
    "ExecuteTime": {
     "end_time": "2023-02-05T05:20:55.884673Z",
     "start_time": "2023-02-05T05:20:55.860671Z"
    }
   },
   "outputs": [],
   "source": [
    "# Split the data into features (X) and target (y)\n",
    "X = df.drop(\"TEY\", axis=1)\n",
    "y = df[\"TEY\"]"
   ]
  },
  {
   "cell_type": "code",
   "execution_count": 5,
   "id": "ff8ddf93",
   "metadata": {
    "ExecuteTime": {
     "end_time": "2023-02-05T05:20:55.916681Z",
     "start_time": "2023-02-05T05:20:55.884673Z"
    }
   },
   "outputs": [],
   "source": [
    "# Split the data into training and testing sets\n",
    "X_train, X_test, y_train, y_test = train_test_split(X, y, test_size=0.2)"
   ]
  },
  {
   "cell_type": "code",
   "execution_count": 6,
   "id": "82cda810",
   "metadata": {
    "ExecuteTime": {
     "end_time": "2023-02-05T05:20:55.986086Z",
     "start_time": "2023-02-05T05:20:55.916681Z"
    }
   },
   "outputs": [
    {
     "data": {
      "text/plain": [
       "LinearRegression()"
      ]
     },
     "execution_count": 6,
     "metadata": {},
     "output_type": "execute_result"
    }
   ],
   "source": [
    "# Train a linear regression model on the training data\n",
    "model = LinearRegression()\n",
    "model.fit(X_train, y_train)"
   ]
  },
  {
   "cell_type": "code",
   "execution_count": 7,
   "id": "a0ea704d",
   "metadata": {
    "ExecuteTime": {
     "end_time": "2023-02-05T05:20:56.002089Z",
     "start_time": "2023-02-05T05:20:55.986086Z"
    }
   },
   "outputs": [],
   "source": [
    "# Predict TEY using the test data\n",
    "y_pred = model.predict(X_test)"
   ]
  },
  {
   "cell_type": "code",
   "execution_count": 8,
   "id": "f50a694e",
   "metadata": {
    "ExecuteTime": {
     "end_time": "2023-02-05T05:20:56.018094Z",
     "start_time": "2023-02-05T05:20:56.002089Z"
    }
   },
   "outputs": [],
   "source": [
    "# Evaluate the model using metrics such as mean squared error and R^2 score\n",
    "mse = mean_squared_error(y_test, y_pred)\n",
    "r2 = r2_score(y_test, y_pred)\n"
   ]
  },
  {
   "cell_type": "code",
   "execution_count": 9,
   "id": "54b5bbae",
   "metadata": {
    "ExecuteTime": {
     "end_time": "2023-02-05T05:20:56.049346Z",
     "start_time": "2023-02-05T05:20:56.018094Z"
    }
   },
   "outputs": [
    {
     "name": "stdout",
     "output_type": "stream",
     "text": [
      "Mean Squared Error: 0.52293328786426\n",
      "R^2 Score: 0.9979562035632741\n"
     ]
    }
   ],
   "source": [
    "print(\"Mean Squared Error:\", mse)\n",
    "print(\"R^2 Score:\", r2)"
   ]
  },
  {
   "cell_type": "code",
   "execution_count": 10,
   "id": "3f94ec97",
   "metadata": {
    "ExecuteTime": {
     "end_time": "2023-02-05T05:20:58.271405Z",
     "start_time": "2023-02-05T05:20:56.049346Z"
    }
   },
   "outputs": [
    {
     "data": {
      "image/png": "[encoded data removed]",
      "text/plain": [
       "<Figure size 640x480 with 1 Axes>"
      ]
     },
     "metadata": {},
     "output_type": "display_data"
    }
   ],
   "source": [
    "# Plot a scatter plot of the actual vs. predicted TEY\n",
    "import matplotlib.pyplot as plt\n",
    "plt.scatter(y_test, y_pred)\n",
    "plt.xlabel(\"Actual TEY (MWh)\")\n",
    "plt.ylabel(\"Predicted TEY (MWh)\")\n",
    "plt.title(\"Actual vs. Predicted TEY\")\n",
    "plt.show()"
   ]
  },
  {
   "cell_type": "code",
   "execution_count": 11,
   "id": "bbd65cd9",
   "metadata": {
    "ExecuteTime": {
     "end_time": "2023-02-05T05:20:58.643215Z",
     "start_time": "2023-02-05T05:20:58.271405Z"
    }
   },
   "outputs": [
    {
     "data": {
      "image/png": "[encoded data removed]",
      "text/plain": [
       "<Figure size 640x480 with 1 Axes>"
      ]
     },
     "metadata": {},
     "output_type": "display_data"
    }
   ],
   "source": [
    "\n",
    "# Plot a histogram of the residuals (difference between actual and predicted TEY)\n",
    "residuals = y_test - y_pred\n",
    "plt.hist(residuals, bins=50)\n",
    "plt.xlabel(\"Residuals (MWh)\")\n",
    "plt.ylabel(\"Frequency\")\n",
    "plt.title(\"Histogram of Residuals\")\n",
    "plt.show()"
   ]
  },
  {
   "cell_type": "markdown",
   "id": "b36a90a8",
   "metadata": {},
   "source": [
    "# Regression neural network model."
   ]
  },
  {
   "cell_type": "code",
   "execution_count": 13,
   "id": "5b1f66b6",
   "metadata": {
    "ExecuteTime": {
     "end_time": "2023-02-05T05:23:39.457489Z",
     "start_time": "2023-02-05T05:23:39.117314Z"
    }
   },
   "outputs": [],
   "source": [
    "# Define the model architecture\n",
    "from tensorflow import keras\n",
    "model = keras.Sequential([\n",
    "    keras.layers.Dense(32, activation='relu', input_shape=(X_train.shape[1],)),\n",
    "    keras.layers.Dense(32, activation='relu'),\n",
    "    keras.layers.Dense(1)\n",
    "    ])"
   ]
  },
  {
   "cell_type": "code",
   "execution_count": 14,
   "id": "731754a1",
   "metadata": {
    "ExecuteTime": {
     "end_time": "2023-02-05T05:23:50.197791Z",
     "start_time": "2023-02-05T05:23:50.157777Z"
    }
   },
   "outputs": [],
   "source": [
    "# Compile the model\n",
    "model.compile(optimizer='adam', loss='mean_squared_error', metrics=['mae'])"
   ]
  },
  {
   "cell_type": "code",
   "execution_count": 16,
   "id": "ce11b914",
   "metadata": {
    "ExecuteTime": {
     "end_time": "2023-02-05T05:27:02.717488Z",
     "start_time": "2023-02-05T05:24:44.627511Z"
    }
   },
   "outputs": [
    {
     "name": "stdout",
     "output_type": "stream",
     "text": [
      "Epoch 1/100\n",
      "376/376 [==============================] - 3s 5ms/step - loss: 168.2742 - mae: 9.6562 - val_loss: 96.7384 - val_mae: 8.1433\n",
      "Epoch 2/100\n",
      "376/376 [==============================] - 2s 4ms/step - loss: 43.5401 - mae: 5.0611 - val_loss: 16.3101 - val_mae: 3.1686\n",
      "Epoch 3/100\n",
      "376/376 [==============================] - 2s 4ms/step - loss: 10.3025 - mae: 2.4131 - val_loss: 5.2796 - val_mae: 1.7052\n",
      "Epoch 4/100\n",
      "376/376 [==============================] - 1s 4ms/step - loss: 4.9339 - mae: 1.6429 - val_loss: 2.8336 - val_mae: 1.2527\n",
      "Epoch 5/100\n",
      "376/376 [==============================] - 1s 3ms/step - loss: 3.2304 - mae: 1.3626 - val_loss: 2.3078 - val_mae: 1.1538\n",
      "Epoch 6/100\n",
      "376/376 [==============================] - 1s 3ms/step - loss: 2.2503 - mae: 1.1632 - val_loss: 1.7259 - val_mae: 1.0292\n",
      "Epoch 7/100\n",
      "376/376 [==============================] - 1s 3ms/step - loss: 2.2393 - mae: 1.1841 - val_loss: 3.2138 - val_mae: 1.5208\n",
      "Epoch 8/100\n",
      "376/376 [==============================] - 1s 3ms/step - loss: 2.0145 - mae: 1.1159 - val_loss: 3.7862 - val_mae: 1.7031\n",
      "Epoch 9/100\n",
      "376/376 [==============================] - 1s 3ms/step - loss: 1.8633 - mae: 1.0735 - val_loss: 5.3476 - val_mae: 2.0613\n",
      "Epoch 10/100\n",
      "376/376 [==============================] - 1s 4ms/step - loss: 1.9775 - mae: 1.1100 - val_loss: 1.1509 - val_mae: 0.8059\n",
      "Epoch 11/100\n",
      "376/376 [==============================] - 1s 3ms/step - loss: 2.0475 - mae: 1.1330 - val_loss: 3.7672 - val_mae: 1.6887\n",
      "Epoch 12/100\n",
      "376/376 [==============================] - 1s 3ms/step - loss: 1.9715 - mae: 1.0976 - val_loss: 1.4495 - val_mae: 0.9646\n",
      "Epoch 13/100\n",
      "376/376 [==============================] - 1s 3ms/step - loss: 1.7589 - mae: 1.0347 - val_loss: 1.0111 - val_mae: 0.7495\n",
      "Epoch 14/100\n",
      "376/376 [==============================] - 1s 3ms/step - loss: 1.5974 - mae: 0.9870 - val_loss: 1.0344 - val_mae: 0.7740\n",
      "Epoch 15/100\n",
      "376/376 [==============================] - 1s 4ms/step - loss: 2.1196 - mae: 1.1415 - val_loss: 3.8841 - val_mae: 1.7237\n",
      "Epoch 16/100\n",
      "376/376 [==============================] - 2s 4ms/step - loss: 1.7173 - mae: 1.0237 - val_loss: 1.0458 - val_mae: 0.7580\n",
      "Epoch 17/100\n",
      "376/376 [==============================] - 1s 4ms/step - loss: 1.7450 - mae: 1.0440 - val_loss: 1.1829 - val_mae: 0.8048\n",
      "Epoch 18/100\n",
      "376/376 [==============================] - 1s 4ms/step - loss: 1.6553 - mae: 1.0096 - val_loss: 1.4039 - val_mae: 0.9234\n",
      "Epoch 19/100\n",
      "376/376 [==============================] - 2s 4ms/step - loss: 1.5232 - mae: 0.9647 - val_loss: 2.3075 - val_mae: 1.2987\n",
      "Epoch 20/100\n",
      "376/376 [==============================] - 1s 3ms/step - loss: 1.7152 - mae: 1.0307 - val_loss: 3.5358 - val_mae: 1.6783\n",
      "Epoch 21/100\n",
      "376/376 [==============================] - 1s 3ms/step - loss: 1.5129 - mae: 0.9421 - val_loss: 0.9338 - val_mae: 0.7316\n",
      "Epoch 22/100\n",
      "376/376 [==============================] - 1s 4ms/step - loss: 1.6720 - mae: 1.0093 - val_loss: 0.8447 - val_mae: 0.6756\n",
      "Epoch 23/100\n",
      "376/376 [==============================] - 1s 3ms/step - loss: 1.2938 - mae: 0.8771 - val_loss: 0.9924 - val_mae: 0.7637\n",
      "Epoch 24/100\n",
      "376/376 [==============================] - 1s 4ms/step - loss: 1.4146 - mae: 0.9257 - val_loss: 1.8464 - val_mae: 1.1481\n",
      "Epoch 25/100\n",
      "376/376 [==============================] - 1s 4ms/step - loss: 1.5043 - mae: 0.9661 - val_loss: 0.8452 - val_mae: 0.6716\n",
      "Epoch 26/100\n",
      "376/376 [==============================] - 1s 4ms/step - loss: 1.6472 - mae: 0.9958 - val_loss: 1.1771 - val_mae: 0.8314\n",
      "Epoch 27/100\n",
      "376/376 [==============================] - 1s 3ms/step - loss: 1.4183 - mae: 0.9252 - val_loss: 0.8235 - val_mae: 0.6603\n",
      "Epoch 28/100\n",
      "376/376 [==============================] - 1s 3ms/step - loss: 1.6034 - mae: 0.9896 - val_loss: 2.4246 - val_mae: 1.3652\n",
      "Epoch 29/100\n",
      "376/376 [==============================] - 1s 3ms/step - loss: 1.5463 - mae: 0.9759 - val_loss: 0.8403 - val_mae: 0.6818\n",
      "Epoch 30/100\n",
      "376/376 [==============================] - 1s 4ms/step - loss: 1.7740 - mae: 1.0354 - val_loss: 1.7451 - val_mae: 1.1178\n",
      "Epoch 31/100\n",
      "376/376 [==============================] - 1s 4ms/step - loss: 1.2620 - mae: 0.8680 - val_loss: 1.0371 - val_mae: 0.7923\n",
      "Epoch 32/100\n",
      "376/376 [==============================] - 2s 4ms/step - loss: 1.3992 - mae: 0.9187 - val_loss: 0.8323 - val_mae: 0.6617\n",
      "Epoch 33/100\n",
      "376/376 [==============================] - 1s 3ms/step - loss: 1.5296 - mae: 0.9736 - val_loss: 1.9729 - val_mae: 1.2040\n",
      "Epoch 34/100\n",
      "376/376 [==============================] - 1s 3ms/step - loss: 1.3535 - mae: 0.9088 - val_loss: 0.7880 - val_mae: 0.6399\n",
      "Epoch 35/100\n",
      "376/376 [==============================] - 1s 4ms/step - loss: 1.5702 - mae: 0.9803 - val_loss: 0.8321 - val_mae: 0.6650\n",
      "Epoch 36/100\n",
      "376/376 [==============================] - 1s 4ms/step - loss: 1.4644 - mae: 0.9342 - val_loss: 0.7937 - val_mae: 0.6344\n",
      "Epoch 37/100\n",
      "376/376 [==============================] - 1s 4ms/step - loss: 1.4842 - mae: 0.9516 - val_loss: 1.0496 - val_mae: 0.7715\n",
      "Epoch 38/100\n",
      "376/376 [==============================] - 1s 3ms/step - loss: 1.6668 - mae: 1.0219 - val_loss: 2.0647 - val_mae: 1.2418\n",
      "Epoch 39/100\n",
      "376/376 [==============================] - 1s 3ms/step - loss: 1.1979 - mae: 0.8404 - val_loss: 1.9380 - val_mae: 1.1771\n",
      "Epoch 40/100\n",
      "376/376 [==============================] - 1s 3ms/step - loss: 1.3147 - mae: 0.8835 - val_loss: 0.9662 - val_mae: 0.7509\n",
      "Epoch 41/100\n",
      "376/376 [==============================] - 1s 3ms/step - loss: 1.1771 - mae: 0.8452 - val_loss: 0.8254 - val_mae: 0.6628\n",
      "Epoch 42/100\n",
      "376/376 [==============================] - 1s 3ms/step - loss: 1.1905 - mae: 0.8418 - val_loss: 0.8583 - val_mae: 0.6812\n",
      "Epoch 43/100\n",
      "376/376 [==============================] - 1s 3ms/step - loss: 1.5571 - mae: 0.9769 - val_loss: 4.7977 - val_mae: 2.0177\n",
      "Epoch 44/100\n",
      "376/376 [==============================] - 1s 3ms/step - loss: 1.2954 - mae: 0.8755 - val_loss: 0.9980 - val_mae: 0.7584\n",
      "Epoch 45/100\n",
      "376/376 [==============================] - 2s 4ms/step - loss: 1.2389 - mae: 0.8540 - val_loss: 0.8133 - val_mae: 0.6540\n",
      "Epoch 46/100\n",
      "376/376 [==============================] - 1s 3ms/step - loss: 1.4141 - mae: 0.9331 - val_loss: 1.3785 - val_mae: 0.9477\n",
      "Epoch 47/100\n",
      "376/376 [==============================] - 1s 4ms/step - loss: 1.2928 - mae: 0.8825 - val_loss: 1.7507 - val_mae: 1.1139\n",
      "Epoch 48/100\n",
      "376/376 [==============================] - 2s 4ms/step - loss: 1.2937 - mae: 0.8898 - val_loss: 1.7448 - val_mae: 1.1031\n",
      "Epoch 49/100\n",
      "376/376 [==============================] - 1s 4ms/step - loss: 1.1479 - mae: 0.8244 - val_loss: 0.8132 - val_mae: 0.6575\n",
      "Epoch 50/100\n",
      "376/376 [==============================] - 1s 4ms/step - loss: 1.4198 - mae: 0.9387 - val_loss: 0.8318 - val_mae: 0.6595\n",
      "Epoch 51/100\n",
      "376/376 [==============================] - 1s 4ms/step - loss: 1.3202 - mae: 0.8942 - val_loss: 0.8831 - val_mae: 0.6854\n",
      "Epoch 52/100\n",
      "376/376 [==============================] - 2s 4ms/step - loss: 1.3334 - mae: 0.8910 - val_loss: 1.7821 - val_mae: 1.1210\n",
      "Epoch 53/100\n",
      "376/376 [==============================] - 1s 4ms/step - loss: 1.3321 - mae: 0.8970 - val_loss: 0.8630 - val_mae: 0.6821\n",
      "Epoch 54/100\n",
      "376/376 [==============================] - 2s 4ms/step - loss: 1.3171 - mae: 0.8967 - val_loss: 0.8660 - val_mae: 0.6754\n",
      "Epoch 55/100\n",
      "376/376 [==============================] - 2s 4ms/step - loss: 1.3065 - mae: 0.8857 - val_loss: 1.7571 - val_mae: 1.1272\n",
      "Epoch 56/100\n",
      "376/376 [==============================] - 1s 4ms/step - loss: 1.3374 - mae: 0.8971 - val_loss: 0.8280 - val_mae: 0.6669\n",
      "Epoch 57/100\n",
      "376/376 [==============================] - 1s 3ms/step - loss: 1.1635 - mae: 0.8338 - val_loss: 1.7174 - val_mae: 1.1109\n",
      "Epoch 58/100\n",
      "376/376 [==============================] - 1s 3ms/step - loss: 1.4358 - mae: 0.9373 - val_loss: 0.8021 - val_mae: 0.6376\n",
      "Epoch 59/100\n",
      "376/376 [==============================] - 1s 4ms/step - loss: 1.1989 - mae: 0.8448 - val_loss: 0.7515 - val_mae: 0.6140\n",
      "Epoch 60/100\n",
      "376/376 [==============================] - 2s 4ms/step - loss: 1.1957 - mae: 0.8369 - val_loss: 1.6875 - val_mae: 1.0976\n",
      "Epoch 61/100\n",
      "376/376 [==============================] - 1s 4ms/step - loss: 1.3982 - mae: 0.9234 - val_loss: 0.7732 - val_mae: 0.6277\n",
      "Epoch 62/100\n",
      "376/376 [==============================] - 1s 4ms/step - loss: 1.0444 - mae: 0.7854 - val_loss: 1.0786 - val_mae: 0.7889\n",
      "Epoch 63/100\n",
      "376/376 [==============================] - 1s 3ms/step - loss: 1.4786 - mae: 0.9482 - val_loss: 0.7557 - val_mae: 0.6196\n",
      "Epoch 64/100\n",
      "376/376 [==============================] - 1s 3ms/step - loss: 1.2101 - mae: 0.8489 - val_loss: 0.8867 - val_mae: 0.6911\n",
      "Epoch 65/100\n",
      "376/376 [==============================] - 1s 3ms/step - loss: 1.2390 - mae: 0.8518 - val_loss: 0.7605 - val_mae: 0.6144\n",
      "Epoch 66/100\n",
      "376/376 [==============================] - 1s 4ms/step - loss: 1.1731 - mae: 0.8382 - val_loss: 4.9868 - val_mae: 2.0930\n",
      "Epoch 67/100\n",
      "376/376 [==============================] - 2s 4ms/step - loss: 1.3598 - mae: 0.9059 - val_loss: 1.1036 - val_mae: 0.8137\n",
      "Epoch 68/100\n",
      "376/376 [==============================] - 1s 4ms/step - loss: 1.3039 - mae: 0.8949 - val_loss: 0.7358 - val_mae: 0.6048\n",
      "Epoch 69/100\n",
      "376/376 [==============================] - 1s 3ms/step - loss: 1.1141 - mae: 0.8076 - val_loss: 0.7960 - val_mae: 0.6343\n",
      "Epoch 70/100\n",
      "376/376 [==============================] - 1s 3ms/step - loss: 1.2660 - mae: 0.8677 - val_loss: 0.9630 - val_mae: 0.7471\n",
      "Epoch 71/100\n",
      "376/376 [==============================] - 1s 3ms/step - loss: 1.3715 - mae: 0.9070 - val_loss: 0.9816 - val_mae: 0.7429\n",
      "Epoch 72/100\n",
      "376/376 [==============================] - 1s 3ms/step - loss: 1.2437 - mae: 0.8585 - val_loss: 1.5166 - val_mae: 1.0103\n",
      "Epoch 73/100\n",
      "376/376 [==============================] - 2s 4ms/step - loss: 1.3780 - mae: 0.9144 - val_loss: 1.7408 - val_mae: 1.1027\n",
      "Epoch 74/100\n",
      "376/376 [==============================] - 2s 4ms/step - loss: 1.1547 - mae: 0.8240 - val_loss: 1.2896 - val_mae: 0.9079\n",
      "Epoch 75/100\n",
      "376/376 [==============================] - 1s 4ms/step - loss: 1.0711 - mae: 0.7818 - val_loss: 0.7573 - val_mae: 0.6045\n",
      "Epoch 76/100\n",
      "376/376 [==============================] - 1s 3ms/step - loss: 1.5254 - mae: 0.9667 - val_loss: 0.7418 - val_mae: 0.6052\n",
      "Epoch 77/100\n",
      "376/376 [==============================] - 1s 3ms/step - loss: 1.2497 - mae: 0.8617 - val_loss: 0.8631 - val_mae: 0.6812\n",
      "Epoch 78/100\n",
      "376/376 [==============================] - 1s 4ms/step - loss: 0.9939 - mae: 0.7618 - val_loss: 0.8660 - val_mae: 0.6802\n",
      "Epoch 79/100\n",
      "376/376 [==============================] - 1s 4ms/step - loss: 1.2705 - mae: 0.8687 - val_loss: 1.6579 - val_mae: 1.0926\n",
      "Epoch 80/100\n",
      "376/376 [==============================] - 2s 4ms/step - loss: 1.0115 - mae: 0.7638 - val_loss: 1.4854 - val_mae: 0.9950\n",
      "Epoch 81/100\n",
      "376/376 [==============================] - 2s 4ms/step - loss: 1.3371 - mae: 0.9011 - val_loss: 2.8426 - val_mae: 1.5258\n",
      "Epoch 82/100\n",
      "376/376 [==============================] - 1s 4ms/step - loss: 1.3115 - mae: 0.8908 - val_loss: 1.3074 - val_mae: 0.9306\n",
      "Epoch 83/100\n",
      "376/376 [==============================] - 1s 4ms/step - loss: 1.0798 - mae: 0.8025 - val_loss: 1.0416 - val_mae: 0.7953\n",
      "Epoch 84/100\n",
      "376/376 [==============================] - 1s 3ms/step - loss: 1.2311 - mae: 0.8600 - val_loss: 1.1913 - val_mae: 0.8655\n",
      "Epoch 85/100\n",
      "376/376 [==============================] - 1s 3ms/step - loss: 1.1323 - mae: 0.8160 - val_loss: 1.5403 - val_mae: 1.0378\n",
      "Epoch 86/100\n",
      "376/376 [==============================] - 1s 3ms/step - loss: 1.1906 - mae: 0.8470 - val_loss: 0.7741 - val_mae: 0.6256\n",
      "Epoch 87/100\n",
      "376/376 [==============================] - 1s 3ms/step - loss: 1.1750 - mae: 0.8285 - val_loss: 0.7742 - val_mae: 0.6317\n",
      "Epoch 88/100\n",
      "376/376 [==============================] - 2s 4ms/step - loss: 0.9849 - mae: 0.7549 - val_loss: 1.5694 - val_mae: 1.0520\n",
      "Epoch 89/100\n",
      "376/376 [==============================] - 1s 3ms/step - loss: 1.0589 - mae: 0.7964 - val_loss: 0.7020 - val_mae: 0.5762\n",
      "Epoch 90/100\n",
      "376/376 [==============================] - 1s 3ms/step - loss: 1.2405 - mae: 0.8697 - val_loss: 1.4073 - val_mae: 0.9754\n",
      "Epoch 91/100\n",
      "376/376 [==============================] - 1s 3ms/step - loss: 1.0632 - mae: 0.7970 - val_loss: 1.5506 - val_mae: 1.0434\n",
      "Epoch 92/100\n",
      "376/376 [==============================] - 1s 3ms/step - loss: 1.1371 - mae: 0.8226 - val_loss: 2.3740 - val_mae: 1.3492\n",
      "Epoch 93/100\n",
      "376/376 [==============================] - 2s 4ms/step - loss: 1.0659 - mae: 0.7867 - val_loss: 0.7177 - val_mae: 0.5980\n",
      "Epoch 94/100\n",
      "376/376 [==============================] - 2s 4ms/step - loss: 1.1992 - mae: 0.8438 - val_loss: 1.5312 - val_mae: 1.0318\n",
      "Epoch 95/100\n",
      "376/376 [==============================] - 1s 3ms/step - loss: 0.9906 - mae: 0.7589 - val_loss: 0.7894 - val_mae: 0.6436\n",
      "Epoch 96/100\n",
      "376/376 [==============================] - 1s 3ms/step - loss: 1.2462 - mae: 0.8725 - val_loss: 1.2983 - val_mae: 0.9223\n",
      "Epoch 97/100\n",
      "376/376 [==============================] - 1s 3ms/step - loss: 0.9790 - mae: 0.7578 - val_loss: 1.5537 - val_mae: 1.0382\n",
      "Epoch 98/100\n",
      "376/376 [==============================] - 1s 3ms/step - loss: 1.1582 - mae: 0.8391 - val_loss: 1.3083 - val_mae: 0.9248\n",
      "Epoch 99/100\n",
      "376/376 [==============================] - 1s 3ms/step - loss: 0.8711 - mae: 0.7032 - val_loss: 0.8087 - val_mae: 0.6599\n",
      "Epoch 100/100\n",
      "376/376 [==============================] - 1s 3ms/step - loss: 1.2617 - mae: 0.8723 - val_loss: 1.0079 - val_mae: 0.7648\n"
     ]
    }
   ],
   "source": [
    "# Train the model\n",
    "history = model.fit(X_train, y_train, epochs=100, validation_data=(X_test, y_test))"
   ]
  },
  {
   "cell_type": "code",
   "execution_count": null,
   "id": "664673c7",
   "metadata": {},
   "outputs": [],
   "source": []
  }
 ],
 "metadata": {
  "kernelspec": {
   "display_name": "Python 3 (ipykernel)",
   "language": "python",
   "name": "python3"
  },
  "language_info": {
   "codemirror_mode": {
    "name": "ipython",
    "version": 3
   },
   "file_extension": ".py",
   "mimetype": "text/x-python",
   "name": "python",
   "nbconvert_exporter": "python",
   "pygments_lexer": "ipython3",
   "version": "3.9.13"
  }
 },
 "nbformat": 4,
 "nbformat_minor": 5
}
